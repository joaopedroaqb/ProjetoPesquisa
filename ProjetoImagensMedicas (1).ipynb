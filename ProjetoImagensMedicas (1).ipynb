{
  "nbformat": 4,
  "nbformat_minor": 0,
  "metadata": {
    "colab": {
      "provenance": []
    },
    "kernelspec": {
      "name": "python3",
      "display_name": "Python 3"
    },
    "language_info": {
      "name": "python"
    }
  },
  "cells": [
    {
      "cell_type": "code",
      "execution_count": 1,
      "metadata": {
        "id": "Vs4GKNYbx1Ak"
      },
      "outputs": [],
      "source": [
        "import pandas as pd \n",
        "from sklearn.model_selection import train_test_split\n",
        "import numpy as np\n",
        "import seaborn as sns\n",
        "from sklearn.metrics import confusion_matrix, accuracy_score"
      ]
    },
    {
      "cell_type": "code",
      "source": [
        "import torch"
      ],
      "metadata": {
        "id": "mLE1d4feyAY4"
      },
      "execution_count": 2,
      "outputs": []
    },
    {
      "cell_type": "code",
      "source": [
        "import torch.nn as nn"
      ],
      "metadata": {
        "id": "unGAzkoKyD3w"
      },
      "execution_count": 3,
      "outputs": []
    },
    {
      "cell_type": "code",
      "source": [
        "## base de dados\n",
        "\n",
        "np.random.seed(123)\n",
        "torch.manual_seed(123)"
      ],
      "metadata": {
        "id": "8bqd4G_zyIxE"
      },
      "execution_count": null,
      "outputs": []
    },
    {
      "cell_type": "code",
      "source": [
        "previsores = pd.read_csv('/content/Data_Entry_2017.csv')\n",
        "classe = pd.read_csv('/content/BBox_List_2017.csv')"
      ],
      "metadata": {
        "id": "-BUMq_3XXpwk"
      },
      "execution_count": null,
      "outputs": []
    },
    {
      "cell_type": "code",
      "source": [
        "previsores.shape"
      ],
      "metadata": {
        "id": "CpVjEWULyyiz"
      },
      "execution_count": null,
      "outputs": []
    },
    {
      "cell_type": "code",
      "source": [
        "previsores.head()"
      ],
      "metadata": {
        "id": "hOOQsxBmy4M5"
      },
      "execution_count": null,
      "outputs": []
    },
    {
      "cell_type": "code",
      "source": [
        "classe.shape"
      ],
      "metadata": {
        "id": "GlzHbB5GI7Kg"
      },
      "execution_count": null,
      "outputs": []
    },
    {
      "cell_type": "code",
      "source": [
        "classe.head()"
      ],
      "metadata": {
        "id": "2tyFqOo4y6fJ"
      },
      "execution_count": null,
      "outputs": []
    },
    {
      "cell_type": "code",
      "source": [
        "## Separação de Dados\n",
        "\n",
        "previsores_treinamento, previsores_teste = train_test_split(previsores.iloc[:,2:], test_size = 0.25)\n",
        "\n",
        "previsores_treinamento.shape"
      ],
      "metadata": {
        "id": "YfinN2kJYyP8"
      },
      "execution_count": null,
      "outputs": []
    },
    {
      "cell_type": "code",
      "source": [
        "previsores_teste.shape"
      ],
      "metadata": {
        "id": "f5483fDrF2xV"
      },
      "execution_count": null,
      "outputs": []
    },
    {
      "cell_type": "code",
      "source": [
        "previsores_treinamento = np.array(previsores_treinamento)\n",
        "#print(previsores_treinamento)\n",
        "\n",
        "previsores_treinamento = torch.from_numpy(previsores_treinamento).float()"
      ],
      "metadata": {
        "id": "Pm7-1L8WGAPk"
      },
      "execution_count": null,
      "outputs": []
    },
    {
      "cell_type": "code",
      "source": [
        "if previsores_treinamento.shape[1] == 15:\n",
        "    rotulo = 'tipo'\n",
        "else:\n",
        "    rotulo = 'label'"
      ],
      "metadata": {
        "id": "_VOApq9LGJF8"
      },
      "execution_count": null,
      "outputs": []
    },
    {
      "cell_type": "code",
      "source": [
        "train_dataset = torch.utils.data.TensorDataset(previsores_treinamento[:,:-1], previsores_treinamento[:,-1])\n",
        "train_loader = torch.utils.data.DataLoader(train_dataset, batch_size=10, shuffle=True)"
      ],
      "metadata": {
        "id": "ruEhFRxrGNd3"
      },
      "execution_count": null,
      "outputs": []
    },
    {
      "cell_type": "code",
      "source": [
        "#construção do modelo\n",
        "\n",
        "import torch.nn as nn\n",
        "\n",
        "classificador = nn.Sequential(\n",
        "    nn.Linear(in_features=12, out_features=6),\n",
        "    nn.ReLU(),\n",
        "    nn.Linear(6, 6),\n",
        "    nn.ReLU(),\n",
        "    nn.Linear(6, 1),\n",
        "    nn.Softmax(dim=1)\n",
        ")\n"
      ],
      "metadata": {
        "id": "TEogCkiqHIN8"
      },
      "execution_count": null,
      "outputs": []
    },
    {
      "cell_type": "code",
      "source": [
        "criterion = nn.BCELoss()\n",
        "optimizer = torch.optim.Adam(classificador.parameters(), lr=0.001, weight_decay=0.0001)"
      ],
      "metadata": {
        "id": "jX7Eg0U3Hfs6"
      },
      "execution_count": null,
      "outputs": []
    },
    {
      "cell_type": "code",
      "source": [
        "from torch.nn.modules import loss\n",
        "## treinamento do modelo\n",
        "for epoch in range(100):\n",
        "  running_loss = 0.\n",
        "\n",
        "  for data in train_loader:\n",
        "    inputs, labels = data\n",
        "    #print(inputs)\n",
        "    #print(\"------\")\n",
        "    #print(labels)\n",
        "    optimizer.zero_grad()\n",
        "\n",
        "    outputs = classificador(inputs) #classificador.forwaard(inputs)\n",
        "    #print(outputs)\n",
        "    loss = criterion(outputs, labels)\n",
        "    #print(loss)\n",
        "    loss.backward()\n",
        "    optimizer.step()\n",
        "\n",
        "    running_loss += loss.item()\n",
        "  print('Época %3d: Perda %.5f' % (epoch+1, running_loss/len(train_loader)))"
      ],
      "metadata": {
        "id": "wV9xTjfZHjCI"
      },
      "execution_count": null,
      "outputs": []
    },
    {
      "cell_type": "code",
      "source": [
        "params = list(classificador.parameters())"
      ],
      "metadata": {
        "id": "WkRthTx8IImf"
      },
      "execution_count": null,
      "outputs": []
    },
    {
      "cell_type": "code",
      "source": [
        "params"
      ],
      "metadata": {
        "id": "aOigJBzIJHIQ"
      },
      "execution_count": null,
      "outputs": []
    },
    {
      "cell_type": "code",
      "source": [
        "pesos0 = params [0]\n",
        "pesos0.shape"
      ],
      "metadata": {
        "id": "URA0xDV9JJ0v"
      },
      "execution_count": null,
      "outputs": []
    },
    {
      "cell_type": "code",
      "source": [
        "print(pesos0)"
      ],
      "metadata": {
        "id": "fnwFuVUuJYam"
      },
      "execution_count": null,
      "outputs": []
    },
    {
      "cell_type": "code",
      "source": [
        " bias0 = params[1]\n",
        " bias0.shape"
      ],
      "metadata": {
        "id": "00Nn7UWKJRnt"
      },
      "execution_count": null,
      "outputs": []
    },
    {
      "cell_type": "code",
      "source": [
        "pesos1 = params[2]\n",
        "pesos1.shape"
      ],
      "metadata": {
        "id": "6r6QJI9TJbSe"
      },
      "execution_count": null,
      "outputs": []
    },
    {
      "cell_type": "code",
      "source": [
        "bias1 = params[3]\n",
        "bias1.shape"
      ],
      "metadata": {
        "id": "fZI9bNzEJdjv"
      },
      "execution_count": null,
      "outputs": []
    }
  ]
}